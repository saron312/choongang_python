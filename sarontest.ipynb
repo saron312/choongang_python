{
 "cells": [
  {
   "cell_type": "code",
   "execution_count": 1,
   "id": "4110ad4f",
   "metadata": {},
   "outputs": [],
   "source": [
    "cookie ={'몽쉘':2500, '핫브레이크': 1000, '눈을감자':2000}\n",
    "icecream = {'와':1500 , '구구콘': 2000 , '돼지바':1200}\n",
    "candy = {'딸기맛' : 500, '초코맛':700}\n",
    "market = {'과자':cookie,'아이스크림':icecream,'사탕':candy}"
   ]
  },
  {
   "cell_type": "code",
   "execution_count": 2,
   "id": "01390209",
   "metadata": {},
   "outputs": [
    {
     "name": "stdout",
     "output_type": "stream",
     "text": [
      "{'과자': {'몽쉘': 2500, '핫브레이크': 1000, '눈을감자': 2000}, '아이스크림': {'와': 1500, '구구콘': 2000, '돼지바': 1200}, '사탕': {'딸기맛': 500, '초코맛': 700}}\n"
     ]
    }
   ],
   "source": [
    "print(market)"
   ]
  },
  {
   "cell_type": "code",
   "execution_count": 4,
   "id": "d7961246",
   "metadata": {},
   "outputs": [
    {
     "name": "stdout",
     "output_type": "stream",
     "text": [
      "{'몽쉘': 2500, '핫브레이크': 1000, '눈을감자': 2000}\n"
     ]
    }
   ],
   "source": [
    "print(market['과자'])"
   ]
  },
  {
   "cell_type": "code",
   "execution_count": null,
   "id": "17aafcdb",
   "metadata": {},
   "outputs": [],
   "source": []
  }
 ],
 "metadata": {
  "kernelspec": {
   "display_name": "Python 3 (ipykernel)",
   "language": "python",
   "name": "python3"
  },
  "language_info": {
   "codemirror_mode": {
    "name": "ipython",
    "version": 3
   },
   "file_extension": ".py",
   "mimetype": "text/x-python",
   "name": "python",
   "nbconvert_exporter": "python",
   "pygments_lexer": "ipython3",
   "version": "3.9.12"
  }
 },
 "nbformat": 4,
 "nbformat_minor": 5
}
