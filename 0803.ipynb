{
 "cells": [
  {
   "cell_type": "code",
   "execution_count": 2,
   "id": "5ff4832e",
   "metadata": {},
   "outputs": [],
   "source": [
    "menu = {'김밥':2500, '참치김밥':3500, '라면':3000, '치즈라면':4000}"
   ]
  },
  {
   "cell_type": "code",
   "execution_count": 3,
   "id": "ec2495c0",
   "metadata": {},
   "outputs": [
    {
     "name": "stdout",
     "output_type": "stream",
     "text": [
      "{'김밥': 3000, '참치김밥': 3500, '라면': 3000, '치즈라면': 4000}\n"
     ]
    }
   ],
   "source": [
    "menu['김밥'] += 500\n",
    "print(menu)"
   ]
  },
  {
   "cell_type": "code",
   "execution_count": 4,
   "id": "3bf7c266",
   "metadata": {},
   "outputs": [],
   "source": [
    "menu['돈가스'] = 6000"
   ]
  },
  {
   "cell_type": "code",
   "execution_count": 5,
   "id": "47edb5f4",
   "metadata": {},
   "outputs": [
    {
     "name": "stdout",
     "output_type": "stream",
     "text": [
      "{'김밥': 3000, '참치김밥': 3500, '라면': 3000, '치즈라면': 4000, '돈가스': 6000}\n"
     ]
    }
   ],
   "source": [
    "print(menu)"
   ]
  },
  {
   "cell_type": "code",
   "execution_count": 8,
   "id": "ca61cec2",
   "metadata": {},
   "outputs": [],
   "source": [
    "menu['돈가스'] = 6500"
   ]
  },
  {
   "cell_type": "code",
   "execution_count": 9,
   "id": "93cf223b",
   "metadata": {},
   "outputs": [
    {
     "name": "stdout",
     "output_type": "stream",
     "text": [
      "{'김밥': 3000, '참치김밥': 3500, '라면': 3000, '치즈라면': 4000, '돈가스': 6500}\n"
     ]
    }
   ],
   "source": [
    "print(menu)"
   ]
  },
  {
   "cell_type": "code",
   "execution_count": 10,
   "id": "3432abbe",
   "metadata": {},
   "outputs": [
    {
     "name": "stdout",
     "output_type": "stream",
     "text": [
      "{}\n"
     ]
    }
   ],
   "source": [
    "eng = {}\n",
    "print(eng)"
   ]
  },
  {
   "cell_type": "code",
   "execution_count": 11,
   "id": "0e25fcaf",
   "metadata": {},
   "outputs": [
    {
     "name": "stdout",
     "output_type": "stream",
     "text": [
      "{'강아지': 'dog'}\n"
     ]
    }
   ],
   "source": [
    "eng['강아지']='dog'\n",
    "print(eng)"
   ]
  },
  {
   "cell_type": "code",
   "execution_count": 12,
   "id": "b157a564",
   "metadata": {},
   "outputs": [
    {
     "name": "stdout",
     "output_type": "stream",
     "text": [
      "{'강아지': 'dog', '고양이': 'cat'}\n"
     ]
    }
   ],
   "source": [
    "eng['고양이']='cat'\n",
    "print(eng)"
   ]
  },
  {
   "cell_type": "code",
   "execution_count": 13,
   "id": "5908628b",
   "metadata": {},
   "outputs": [
    {
     "name": "stdout",
     "output_type": "stream",
     "text": [
      "추가 메뉴??쫄면\n",
      "메뉴의 가격은?4000\n",
      "{'김밥': 3000, '참치김밥': 3500, '라면': 3000, '치즈라면': 4000, '돈가스': 6500, '쫄면': 4000}\n"
     ]
    }
   ],
   "source": [
    "name=input('추가 메뉴??')\n",
    "price = int(input('메뉴의 가격은?'))\n",
    "menu[name]=price\n",
    "print(menu)"
   ]
  },
  {
   "cell_type": "code",
   "execution_count": 14,
   "id": "1e851de6",
   "metadata": {},
   "outputs": [],
   "source": [
    "del menu['치즈라면']"
   ]
  },
  {
   "cell_type": "code",
   "execution_count": 15,
   "id": "09247e0c",
   "metadata": {},
   "outputs": [
    {
     "name": "stdout",
     "output_type": "stream",
     "text": [
      "{'김밥': 3000, '참치김밥': 3500, '라면': 3000, '돈가스': 6500, '쫄면': 4000}\n"
     ]
    }
   ],
   "source": [
    "print(menu)"
   ]
  },
  {
   "cell_type": "code",
   "execution_count": 16,
   "id": "58d74ccd",
   "metadata": {},
   "outputs": [
    {
     "data": {
      "text/plain": [
       "dict_keys(['김밥', '참치김밥', '라면', '돈가스', '쫄면'])"
      ]
     },
     "execution_count": 16,
     "metadata": {},
     "output_type": "execute_result"
    }
   ],
   "source": [
    "menu.keys()"
   ]
  },
  {
   "cell_type": "code",
   "execution_count": 17,
   "id": "5395d230",
   "metadata": {},
   "outputs": [
    {
     "name": "stdout",
     "output_type": "stream",
     "text": [
      "dict_keys(['과자', '아이스크림', '휴지', '고기', '우유'])\n"
     ]
    }
   ],
   "source": [
    "mart={'과자':1500,'아이스크림':1700,'휴지':4800,'고기':10500,'우유':2600}\n",
    "print(mart.keys())"
   ]
  },
  {
   "cell_type": "code",
   "execution_count": 18,
   "id": "fe33b381",
   "metadata": {},
   "outputs": [
    {
     "data": {
      "text/plain": [
       "dict_keys"
      ]
     },
     "execution_count": 18,
     "metadata": {},
     "output_type": "execute_result"
    }
   ],
   "source": [
    "type(mart.keys())"
   ]
  },
  {
   "cell_type": "code",
   "execution_count": 19,
   "id": "56abc72a",
   "metadata": {},
   "outputs": [
    {
     "data": {
      "text/plain": [
       "dict_values([1500, 1700, 4800, 10500, 2600])"
      ]
     },
     "execution_count": 19,
     "metadata": {},
     "output_type": "execute_result"
    }
   ],
   "source": [
    "mart.values()"
   ]
  },
  {
   "cell_type": "code",
   "execution_count": 20,
   "id": "004bb8ef",
   "metadata": {},
   "outputs": [
    {
     "name": "stdout",
     "output_type": "stream",
     "text": [
      "dict_values([1500, 1700, 4800, 10500, 2600])\n"
     ]
    }
   ],
   "source": [
    "print(mart.values())"
   ]
  },
  {
   "cell_type": "code",
   "execution_count": 21,
   "id": "d99b2d45",
   "metadata": {},
   "outputs": [
    {
     "name": "stdout",
     "output_type": "stream",
     "text": [
      "['과자', '아이스크림', '휴지', '고기', '우유']\n"
     ]
    }
   ],
   "source": [
    "print(list(mart.keys()))"
   ]
  },
  {
   "cell_type": "code",
   "execution_count": 22,
   "id": "ef9008d0",
   "metadata": {},
   "outputs": [
    {
     "name": "stdout",
     "output_type": "stream",
     "text": [
      "[1500, 1700, 4800, 10500, 2600]\n"
     ]
    }
   ],
   "source": [
    "print(list(mart.values()))"
   ]
  },
  {
   "cell_type": "code",
   "execution_count": 23,
   "id": "1f74ccff",
   "metadata": {},
   "outputs": [
    {
     "data": {
      "text/plain": [
       "dict_items([('과자', 1500), ('아이스크림', 1700), ('휴지', 4800), ('고기', 10500), ('우유', 2600)])"
      ]
     },
     "execution_count": 23,
     "metadata": {},
     "output_type": "execute_result"
    }
   ],
   "source": [
    "mart.items()"
   ]
  },
  {
   "cell_type": "code",
   "execution_count": 24,
   "id": "165eb486",
   "metadata": {},
   "outputs": [
    {
     "name": "stdout",
     "output_type": "stream",
     "text": [
      "dict_items([('과자', 1500), ('아이스크림', 1700), ('휴지', 4800), ('고기', 10500), ('우유', 2600)])\n"
     ]
    }
   ],
   "source": [
    "print(mart.items())"
   ]
  },
  {
   "cell_type": "code",
   "execution_count": 26,
   "id": "d0deeb42",
   "metadata": {},
   "outputs": [
    {
     "name": "stdout",
     "output_type": "stream",
     "text": [
      "['휴지', '우유', '아이스크림', '과자', '고기']\n"
     ]
    }
   ],
   "source": [
    "print(sorted(mart.keys(), reverse=True))"
   ]
  },
  {
   "cell_type": "code",
   "execution_count": 27,
   "id": "fee8d79c",
   "metadata": {},
   "outputs": [
    {
     "name": "stdout",
     "output_type": "stream",
     "text": [
      "['고기', '과자', '아이스크림', '우유', '휴지']\n"
     ]
    }
   ],
   "source": [
    "print(sorted(mart.keys()))"
   ]
  },
  {
   "cell_type": "code",
   "execution_count": 28,
   "id": "499aed55",
   "metadata": {},
   "outputs": [
    {
     "name": "stdout",
     "output_type": "stream",
     "text": [
      "[1500, 1700, 2600, 4800, 10500]\n"
     ]
    }
   ],
   "source": [
    "print(sorted(mart.values()))"
   ]
  },
  {
   "cell_type": "code",
   "execution_count": 29,
   "id": "9a2df1e1",
   "metadata": {},
   "outputs": [
    {
     "name": "stdout",
     "output_type": "stream",
     "text": [
      "['고기', '과자']\n"
     ]
    }
   ],
   "source": [
    "print(sorted(mart.keys())[:2])"
   ]
  },
  {
   "cell_type": "code",
   "execution_count": 32,
   "id": "158a7bea",
   "metadata": {},
   "outputs": [
    {
     "name": "stdout",
     "output_type": "stream",
     "text": [
      "[10500, 4800, 2600]\n"
     ]
    }
   ],
   "source": [
    "print(sorted(mart.values(), reverse=True)[:3])"
   ]
  },
  {
   "cell_type": "code",
   "execution_count": 38,
   "id": "443d54cb",
   "metadata": {},
   "outputs": [
    {
     "name": "stdout",
     "output_type": "stream",
     "text": [
      "dict_items([('과자', 1500), ('아이스크림', 1700), ('휴지', 4800), ('고기', 10500), ('우유', 2600)])\n"
     ]
    }
   ],
   "source": [
    "print(mart.items())"
   ]
  },
  {
   "cell_type": "code",
   "execution_count": 39,
   "id": "14775da3",
   "metadata": {},
   "outputs": [
    {
     "name": "stdout",
     "output_type": "stream",
     "text": [
      "[('고기', 10500), ('과자', 1500), ('아이스크림', 1700), ('우유', 2600), ('휴지', 4800)]\n"
     ]
    }
   ],
   "source": [
    "print(sorted(mart.items()))"
   ]
  },
  {
   "cell_type": "code",
   "execution_count": 40,
   "id": "4b4186f9",
   "metadata": {},
   "outputs": [
    {
     "name": "stdout",
     "output_type": "stream",
     "text": [
      "[('휴지', 4800), ('우유', 2600), ('아이스크림', 1700), ('과자', 1500), ('고기', 10500)]\n"
     ]
    }
   ],
   "source": [
    "print(sorted(mart.items(), reverse=True))"
   ]
  },
  {
   "cell_type": "code",
   "execution_count": 41,
   "id": "e1cd9740",
   "metadata": {},
   "outputs": [
    {
     "name": "stdout",
     "output_type": "stream",
     "text": [
      "[('과자', 1500), ('아이스크림', 1700), ('우유', 2600), ('휴지', 4800), ('고기', 10500)]\n"
     ]
    }
   ],
   "source": [
    "import operator\n",
    "print(sorted(mart.items(), key=operator.itemgetter(1)))"
   ]
  },
  {
   "cell_type": "code",
   "execution_count": 42,
   "id": "5d1bcc36",
   "metadata": {},
   "outputs": [
    {
     "name": "stdout",
     "output_type": "stream",
     "text": [
      "[('과자', 1500), ('아이스크림', 1700)]\n"
     ]
    }
   ],
   "source": [
    "print(sorted(mart.items(), key=operator.itemgetter(1))[:2])"
   ]
  },
  {
   "cell_type": "code",
   "execution_count": 43,
   "id": "677b9feb",
   "metadata": {},
   "outputs": [
    {
     "data": {
      "text/plain": [
       "['고기', '과자', '아이스크림', '우유', '휴지']"
      ]
     },
     "execution_count": 43,
     "metadata": {},
     "output_type": "execute_result"
    }
   ],
   "source": [
    "sorted(mart.keys())"
   ]
  },
  {
   "cell_type": "code",
   "execution_count": 44,
   "id": "e7f79703",
   "metadata": {},
   "outputs": [
    {
     "name": "stdout",
     "output_type": "stream",
     "text": [
      "{'과자': 1500, '아이스크림': 1700, '휴지': 4800, '고기': 10500, '우유': 2600}\n"
     ]
    }
   ],
   "source": [
    "print(mart)"
   ]
  },
  {
   "cell_type": "code",
   "execution_count": 45,
   "id": "1dcb0d55",
   "metadata": {},
   "outputs": [
    {
     "name": "stdout",
     "output_type": "stream",
     "text": [
      "['고기', '과자', '아이스크림', '우유', '휴지']\n"
     ]
    }
   ],
   "source": [
    "mart = sorted(mart.keys())\n",
    "print(mart)"
   ]
  },
  {
   "cell_type": "code",
   "execution_count": 47,
   "id": "2eca5ef6",
   "metadata": {},
   "outputs": [
    {
     "name": "stdout",
     "output_type": "stream",
     "text": [
      "{'고기': 10500, '과자': 1500, '아이스크림': 1700, '우유': 2600, '휴지': 4800}\n"
     ]
    }
   ],
   "source": [
    "mart={'과자':1500,'아이스크림':1700,'휴지':4800,'고기':10500,'우유':2600}\n",
    "mart = dict(sorted(mart.items()))\n",
    "print(mart)"
   ]
  },
  {
   "cell_type": "code",
   "execution_count": null,
   "id": "744c16ce",
   "metadata": {},
   "outputs": [],
   "source": []
  }
 ],
 "metadata": {
  "kernelspec": {
   "display_name": "Python 3 (ipykernel)",
   "language": "python",
   "name": "python3"
  },
  "language_info": {
   "codemirror_mode": {
    "name": "ipython",
    "version": 3
   },
   "file_extension": ".py",
   "mimetype": "text/x-python",
   "name": "python",
   "nbconvert_exporter": "python",
   "pygments_lexer": "ipython3",
   "version": "3.9.12"
  }
 },
 "nbformat": 4,
 "nbformat_minor": 5
}
