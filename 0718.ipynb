{
 "cells": [
  {
   "cell_type": "code",
   "execution_count": 37,
   "id": "59364663",
   "metadata": {},
   "outputs": [
    {
     "name": "stdout",
     "output_type": "stream",
     "text": [
      "123\n",
      "가나다 123 홍길동\n"
     ]
    }
   ],
   "source": [
    "print(123)\n",
    "\n",
    "print('가나다',123,'홍길동')"
   ]
  },
  {
   "cell_type": "code",
   "execution_count": 38,
   "id": "1ffe99cf",
   "metadata": {},
   "outputs": [
    {
     "name": "stdout",
     "output_type": "stream",
     "text": [
      "125\n"
     ]
    }
   ],
   "source": [
    "print(123+2)"
   ]
  },
  {
   "cell_type": "code",
   "execution_count": 39,
   "id": "4a1d086c",
   "metadata": {},
   "outputs": [
    {
     "ename": "TypeError",
     "evalue": "can only concatenate str (not \"int\") to str",
     "output_type": "error",
     "traceback": [
      "\u001b[1;31m---------------------------------------------------------------------------\u001b[0m",
      "\u001b[1;31mTypeError\u001b[0m                                 Traceback (most recent call last)",
      "Input \u001b[1;32mIn [39]\u001b[0m, in \u001b[0;36m<cell line: 1>\u001b[1;34m()\u001b[0m\n\u001b[1;32m----> 1\u001b[0m \u001b[38;5;28mprint\u001b[39m(\u001b[38;5;124;43m'\u001b[39;49m\u001b[38;5;124;43m123\u001b[39;49m\u001b[38;5;124;43m'\u001b[39;49m\u001b[38;5;241;43m+\u001b[39;49m\u001b[38;5;241;43m2\u001b[39;49m)\n",
      "\u001b[1;31mTypeError\u001b[0m: can only concatenate str (not \"int\") to str"
     ]
    }
   ],
   "source": [
    "print('123'+2)"
   ]
  },
  {
   "cell_type": "code",
   "execution_count": 40,
   "id": "d4899584",
   "metadata": {},
   "outputs": [
    {
     "name": "stdout",
     "output_type": "stream",
     "text": [
      "123123123123123123123123123123\n"
     ]
    }
   ],
   "source": [
    "print('123'*10)"
   ]
  },
  {
   "cell_type": "code",
   "execution_count": 42,
   "id": "56791446",
   "metadata": {},
   "outputs": [
    {
     "name": "stdout",
     "output_type": "stream",
     "text": [
      "864\n"
     ]
    }
   ],
   "source": [
    "print(108*8)"
   ]
  },
  {
   "cell_type": "code",
   "execution_count": 41,
   "id": "683cbeca",
   "metadata": {},
   "outputs": [
    {
     "name": "stdout",
     "output_type": "stream",
     "text": [
      "13.5\n"
     ]
    }
   ],
   "source": [
    "print(108/8)"
   ]
  },
  {
   "cell_type": "code",
   "execution_count": 44,
   "id": "57740d4c",
   "metadata": {},
   "outputs": [
    {
     "name": "stdout",
     "output_type": "stream",
     "text": [
      "13\n"
     ]
    }
   ],
   "source": [
    "print(108//8)"
   ]
  },
  {
   "cell_type": "code",
   "execution_count": 43,
   "id": "198e53ba",
   "metadata": {},
   "outputs": [
    {
     "name": "stdout",
     "output_type": "stream",
     "text": [
      "8\n"
     ]
    }
   ],
   "source": [
    "print(108&8)"
   ]
  },
  {
   "cell_type": "code",
   "execution_count": 36,
   "id": "6c1606e4",
   "metadata": {},
   "outputs": [
    {
     "name": "stdout",
     "output_type": "stream",
     "text": [
      "4\n"
     ]
    }
   ],
   "source": [
    "print(108%8)"
   ]
  },
  {
   "cell_type": "code",
   "execution_count": 35,
   "id": "6a80f93a",
   "metadata": {},
   "outputs": [
    {
     "name": "stdout",
     "output_type": "stream",
     "text": [
      "25\n"
     ]
    }
   ],
   "source": [
    "print(5**2)"
   ]
  },
  {
   "cell_type": "code",
   "execution_count": 34,
   "id": "7309d5b1",
   "metadata": {},
   "outputs": [
    {
     "name": "stdout",
     "output_type": "stream",
     "text": [
      "가나다홍길동\n"
     ]
    }
   ],
   "source": [
    "print('가나다'+'홍길동')"
   ]
  },
  {
   "cell_type": "code",
   "execution_count": 33,
   "id": "11404579",
   "metadata": {},
   "outputs": [
    {
     "name": "stdout",
     "output_type": "stream",
     "text": [
      "****************************************************************************************************\n"
     ]
    }
   ],
   "source": [
    "print('*'*100)"
   ]
  },
  {
   "cell_type": "code",
   "execution_count": 32,
   "id": "7837e714",
   "metadata": {},
   "outputs": [
    {
     "name": "stdout",
     "output_type": "stream",
     "text": [
      "숫자를 입력하세요:123\n",
      "123\n"
     ]
    }
   ],
   "source": [
    "c=input('숫자를 입력하세요:')\n",
    "print(c)"
   ]
  },
  {
   "cell_type": "code",
   "execution_count": 31,
   "id": "b19a36c0",
   "metadata": {},
   "outputs": [
    {
     "name": "stdout",
     "output_type": "stream",
     "text": [
      "123\n",
      "가나다\n"
     ]
    }
   ],
   "source": [
    "c=123\n",
    "print(c)\n",
    "c='가나다'\n",
    "print(c)"
   ]
  },
  {
   "cell_type": "code",
   "execution_count": 30,
   "id": "22efc9e6",
   "metadata": {},
   "outputs": [
    {
     "name": "stdout",
     "output_type": "stream",
     "text": [
      "가나다 123 45.3\n"
     ]
    }
   ],
   "source": [
    "print('가나다',123,45.3)"
   ]
  },
  {
   "cell_type": "code",
   "execution_count": 29,
   "id": "da40c4a3",
   "metadata": {},
   "outputs": [
    {
     "name": "stdout",
     "output_type": "stream",
     "text": [
      "이름: sdf\n",
      "나이: 12\n",
      "sdf는 나이가 12입니다.\n"
     ]
    }
   ],
   "source": [
    "n=input('이름: ')\n",
    "a=input('나이: ')\n",
    "print('{}는 나이가 {}입니다.'.format(n,a))"
   ]
  },
  {
   "cell_type": "code",
   "execution_count": 27,
   "id": "3116465a",
   "metadata": {},
   "outputs": [
    {
     "name": "stdout",
     "output_type": "stream",
     "text": [
      "원의 넓이는 = 78.5398\n"
     ]
    }
   ],
   "source": [
    "p=3.141592\n",
    "r=5\n",
    "print('원의 넓이는 =',p*(r**2))"
   ]
  },
  {
   "cell_type": "code",
   "execution_count": 26,
   "id": "eeaa2ce0",
   "metadata": {},
   "outputs": [
    {
     "name": "stdout",
     "output_type": "stream",
     "text": [
      "숫자입력:123\n",
      "133\n"
     ]
    }
   ],
   "source": [
    "a = int(input('숫자입력:'))\n",
    "print(a+10)"
   ]
  },
  {
   "cell_type": "code",
   "execution_count": 25,
   "id": "6dcf08d4",
   "metadata": {},
   "outputs": [
    {
     "name": "stdout",
     "output_type": "stream",
     "text": [
      "<class 'float'>\n"
     ]
    }
   ],
   "source": [
    "c=123.56\n",
    "print(type(c))"
   ]
  },
  {
   "cell_type": "code",
   "execution_count": 24,
   "id": "af80111f",
   "metadata": {},
   "outputs": [
    {
     "name": "stdout",
     "output_type": "stream",
     "text": [
      "<class 'complex'>\n"
     ]
    }
   ],
   "source": [
    "d=1+4j\n",
    "print(type(d))"
   ]
  },
  {
   "cell_type": "code",
   "execution_count": 45,
   "id": "d285255e",
   "metadata": {},
   "outputs": [
    {
     "name": "stdout",
     "output_type": "stream",
     "text": [
      "1233\n"
     ]
    }
   ],
   "source": [
    "print('123'+str(3))"
   ]
  },
  {
   "cell_type": "code",
   "execution_count": 49,
   "id": "13e93571",
   "metadata": {},
   "outputs": [
    {
     "name": "stdout",
     "output_type": "stream",
     "text": [
      "79.0 <class 'float'>\n"
     ]
    }
   ],
   "source": [
    "score=79\n",
    "print(float(score),type(float(score)))"
   ]
  },
  {
   "cell_type": "code",
   "execution_count": 3,
   "id": "120a56ce",
   "metadata": {},
   "outputs": [
    {
     "name": "stdout",
     "output_type": "stream",
     "text": [
      "[1, 2, 3, 4, 5]\n"
     ]
    }
   ],
   "source": [
    "list =[1,2,3,4,5]\n",
    "print(list)"
   ]
  },
  {
   "cell_type": "code",
   "execution_count": 4,
   "id": "d4f771c6",
   "metadata": {},
   "outputs": [
    {
     "name": "stdout",
     "output_type": "stream",
     "text": [
      "<class 'list'>\n"
     ]
    }
   ],
   "source": [
    "print(type(list))"
   ]
  },
  {
   "cell_type": "code",
   "execution_count": 5,
   "id": "4e9ae2c2",
   "metadata": {},
   "outputs": [
    {
     "name": "stdout",
     "output_type": "stream",
     "text": [
      "[1, 2, 3, 4, 5, 6]\n"
     ]
    }
   ],
   "source": [
    "list.append(6)\n",
    "print(list)"
   ]
  },
  {
   "cell_type": "code",
   "execution_count": 9,
   "id": "8c21a52e",
   "metadata": {},
   "outputs": [
    {
     "name": "stdout",
     "output_type": "stream",
     "text": [
      "나이는?17\n",
      "가능함.\n"
     ]
    }
   ],
   "source": [
    "a=int(input(\"나이는?\"))\n",
    "if 15 <= a <19:\n",
    "    print(\"가능함.\")"
   ]
  },
  {
   "cell_type": "code",
   "execution_count": 56,
   "id": "989cb04d",
   "metadata": {},
   "outputs": [
    {
     "name": "stdout",
     "output_type": "stream",
     "text": [
      "나이를 입력하세요.11\n"
     ]
    }
   ],
   "source": [
    "a = int(input(\"나이를 입력하세요.\"))\n",
    "if 20<= a :\n",
    "    print(\"관람 가능\")\n",
    "elif 15<=a<20 : \n",
    "    print(\"부모님 동반하여 관람 가능\")\n",
    "    b = input(\"부모님 동반 여부 (O/X 로 입력)\")\n",
    "    if (b == 'O') or (b == 'o'):\n",
    "         print('관람 가능')\n",
    "    elif (b == 'X') or (b =='x'):\n",
    "        print('관람 불가')\n",
    "else : \n",
    "    print(\"관람 불가\")"
   ]
  },
  {
   "cell_type": "code",
   "execution_count": 59,
   "id": "2f65faa3",
   "metadata": {},
   "outputs": [
    {
     "name": "stdout",
     "output_type": "stream",
     "text": [
      "나이가 어떻게 되세요?13\n",
      "미성년자는 6,000원 입니다.\n",
      "입장료를 넣어 주세요. -->8000\n",
      "2000 원을 거슬러 드리겠습니다.\n"
     ]
    }
   ],
   "source": [
    "#1단계 = 나이 입력받아 입장료 결정하기\n",
    "age = int(input('나이가 어떻게 되세요?'))\n",
    "if age>=20:\n",
    "    print('성인은 15,000원 입니다.')\n",
    "    price = 15000\n",
    "else:\n",
    "    print('미성년자는 6,000원 입니다.')\n",
    "    price = 6000\n",
    "#2단계 = 투입 금액을 입력받아 입장료와 비교하기\n",
    "price_input = int(input('입장료를 넣어 주세요. -->'))\n",
    "if price_input < price : \n",
    "    print(price-price_input,'원을 더 내야 합니다.')\n",
    "else:\n",
    "    print(price_input-price,'원을 거슬러 드리겠습니다.')"
   ]
  },
  {
   "cell_type": "code",
   "execution_count": null,
   "id": "4e898b3d",
   "metadata": {},
   "outputs": [],
   "source": []
  }
 ],
 "metadata": {
  "kernelspec": {
   "display_name": "Python 3 (ipykernel)",
   "language": "python",
   "name": "python3"
  },
  "language_info": {
   "codemirror_mode": {
    "name": "ipython",
    "version": 3
   },
   "file_extension": ".py",
   "mimetype": "text/x-python",
   "name": "python",
   "nbconvert_exporter": "python",
   "pygments_lexer": "ipython3",
   "version": "3.9.12"
  }
 },
 "nbformat": 4,
 "nbformat_minor": 5
}
